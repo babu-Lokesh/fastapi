{
 "cells": [
  {
   "cell_type": "code",
   "execution_count": 1,
   "id": "a91b770d",
   "metadata": {},
   "outputs": [],
   "source": [
    "def my_fun(a,b):\n",
    "    \"\"\"\n",
    "    This function takes two arguments and returns their sum.\n",
    "    \"\"\"\n",
    "    return a + b"
   ]
  },
  {
   "cell_type": "code",
   "execution_count": 2,
   "id": "f182b90e",
   "metadata": {},
   "outputs": [
    {
     "data": {
      "text/plain": [
       "30"
      ]
     },
     "execution_count": 2,
     "metadata": {},
     "output_type": "execute_result"
    }
   ],
   "source": [
    "my_fun(10,20)"
   ]
  },
  {
   "cell_type": "code",
   "execution_count": 3,
   "id": "2b159917",
   "metadata": {},
   "outputs": [],
   "source": [
    "a = lambda a,b: a + b"
   ]
  },
  {
   "cell_type": "code",
   "execution_count": 5,
   "id": "86e43146",
   "metadata": {},
   "outputs": [
    {
     "name": "stdout",
     "output_type": "stream",
     "text": [
      "30\n"
     ]
    }
   ],
   "source": [
    "print(a(10,20))"
   ]
  }
 ],
 "metadata": {
  "kernelspec": {
   "display_name": "Python 3",
   "language": "python",
   "name": "python3"
  },
  "language_info": {
   "codemirror_mode": {
    "name": "ipython",
    "version": 3
   },
   "file_extension": ".py",
   "mimetype": "text/x-python",
   "name": "python",
   "nbconvert_exporter": "python",
   "pygments_lexer": "ipython3",
   "version": "3.12.3"
  }
 },
 "nbformat": 4,
 "nbformat_minor": 5
}
